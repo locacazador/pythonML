{
 "cells": [
  {
   "cell_type": "code",
   "execution_count": null,
   "metadata": {
    "ExecuteTime": {
     "end_time": "2020-09-11T05:00:41.910761Z",
     "start_time": "2020-09-11T05:00:40.465236Z"
    }
   },
   "outputs": [],
   "source": [
    "import pandas as pd"
   ]
  },
  {
   "cell_type": "code",
   "execution_count": null,
   "metadata": {
    "ExecuteTime": {
     "end_time": "2020-09-11T05:01:14.097951Z",
     "start_time": "2020-09-11T05:01:12.857169Z"
    }
   },
   "outputs": [],
   "source": [
    "data = pd.read_csv('checkins.dat', sep = '|', skipinitialspace=True)\n"
   ]
  },
  {
   "cell_type": "code",
   "execution_count": null,
   "metadata": {
    "ExecuteTime": {
     "end_time": "2020-09-11T05:01:27.356242Z",
     "start_time": "2020-09-11T05:01:27.173176Z"
    }
   },
   "outputs": [],
   "source": [
    "data.dropna(inplace=True)"
   ]
  },
  {
   "cell_type": "code",
   "execution_count": null,
   "metadata": {
    "ExecuteTime": {
     "end_time": "2020-09-11T05:04:57.262851Z",
     "start_time": "2020-09-11T05:04:57.258860Z"
    }
   },
   "outputs": [],
   "source": [
    "print(data[:100000].shape)"
   ]
  },
  {
   "cell_type": "code",
   "execution_count": null,
   "metadata": {
    "ExecuteTime": {
     "end_time": "2020-09-11T06:52:26.250336Z",
     "start_time": "2020-09-11T06:52:26.170558Z"
    }
   },
   "outputs": [],
   "source": [
    "data_cluster = data.sample(100000)"
   ]
  },
  {
   "cell_type": "code",
   "execution_count": null,
   "metadata": {
    "ExecuteTime": {
     "end_time": "2020-09-11T05:03:33.065241Z",
     "start_time": "2020-09-11T05:03:33.061227Z"
    }
   },
   "outputs": [],
   "source": [
    "from sklearn.cluster import MeanShift"
   ]
  },
  {
   "cell_type": "code",
   "execution_count": null,
   "metadata": {
    "ExecuteTime": {
     "end_time": "2020-09-11T06:52:29.015836Z",
     "start_time": "2020-09-11T06:52:28.923011Z"
    },
    "scrolled": true
   },
   "outputs": [],
   "source": [
    "data_cluster[['created_at      ']] = data_cluster[['created_at      ']].apply(lambda x:  pd.to_datetime(x))"
   ]
  },
  {
   "cell_type": "code",
   "execution_count": null,
   "metadata": {
    "ExecuteTime": {
     "end_time": "2020-09-11T06:52:31.767299Z",
     "start_time": "2020-09-11T06:52:31.763312Z"
    }
   },
   "outputs": [],
   "source": [
    "fix_cols = []\n",
    "for col in data_cluster.columns:\n",
    "    col = col.replace(' ', '')\n",
    "    fix_cols.append(col)\n",
    "            "
   ]
  },
  {
   "cell_type": "code",
   "execution_count": null,
   "metadata": {
    "ExecuteTime": {
     "end_time": "2020-09-11T06:52:33.033181Z",
     "start_time": "2020-09-11T06:52:33.028194Z"
    }
   },
   "outputs": [],
   "source": [
    "data_cluster.columns = fix_cols\n",
    "print(data_cluster.columns)"
   ]
  },
  {
   "cell_type": "code",
   "execution_count": null,
   "metadata": {
    "ExecuteTime": {
     "end_time": "2020-09-11T06:41:31.317180Z",
     "start_time": "2020-09-11T06:41:31.311195Z"
    }
   },
   "outputs": [],
   "source": [
    "print(data_cluster.dtypes)"
   ]
  },
  {
   "cell_type": "code",
   "execution_count": null,
   "metadata": {
    "ExecuteTime": {
     "end_time": "2020-09-11T06:52:36.856396Z",
     "start_time": "2020-09-11T06:52:36.850412Z"
    }
   },
   "outputs": [],
   "source": [
    "print(data_cluster['latitude'])"
   ]
  },
  {
   "cell_type": "code",
   "execution_count": null,
   "metadata": {
    "ExecuteTime": {
     "end_time": "2020-09-11T06:52:39.184610Z",
     "start_time": "2020-09-11T06:52:39.178629Z"
    }
   },
   "outputs": [],
   "source": [
    "data_to_fit = data_cluster[['latitude', 'longitude']]"
   ]
  },
  {
   "cell_type": "code",
   "execution_count": null,
   "metadata": {
    "ExecuteTime": {
     "end_time": "2020-09-11T06:55:44.951553Z",
     "start_time": "2020-09-11T06:52:42.059665Z"
    }
   },
   "outputs": [],
   "source": [
    "clustering = MeanShift(bandwidth=0.1).fit(data_to_fit)"
   ]
  },
  {
   "cell_type": "code",
   "execution_count": null,
   "metadata": {
    "ExecuteTime": {
     "end_time": "2020-09-11T06:55:44.955473Z",
     "start_time": "2020-09-11T06:55:44.952479Z"
    }
   },
   "outputs": [],
   "source": [
    "import numpy as np"
   ]
  },
  {
   "cell_type": "code",
   "execution_count": null,
   "metadata": {
    "ExecuteTime": {
     "end_time": "2020-09-11T06:55:45.490035Z",
     "start_time": "2020-09-11T06:55:44.958465Z"
    }
   },
   "outputs": [],
   "source": [
    "counts_of_any_cluster = dict()\n",
    "iterator = 0\n",
    "for index, item in enumerate(np.unique(clustering.labels_)):\n",
    "    counts_of_any_cluster[iterator] = np.sum(clustering.labels_ == item)\n",
    "    iterator += 1\n",
    "print(counts_of_any_cluster)"
   ]
  },
  {
   "cell_type": "code",
   "execution_count": null,
   "metadata": {
    "ExecuteTime": {
     "end_time": "2020-09-11T06:44:39.492667Z",
     "start_time": "2020-09-11T06:44:39.488576Z"
    }
   },
   "outputs": [],
   "source": [
    "cluster_center_coords_to_numbers = dict()"
   ]
  },
  {
   "cell_type": "code",
   "execution_count": null,
   "metadata": {},
   "outputs": [],
   "source": [
    "print()"
   ]
  },
  {
   "cell_type": "code",
   "execution_count": null,
   "metadata": {
    "ExecuteTime": {
     "end_time": "2020-09-11T06:55:45.496042Z",
     "start_time": "2020-09-11T06:55:45.492055Z"
    }
   },
   "outputs": [],
   "source": [
    "for key, value in counts_of_any_cluster.items():\n",
    "    if value > 15:\n",
    "        cluster_center_coords_to_numbers[value] = clustering.cluster_centers_[key]"
   ]
  },
  {
   "cell_type": "code",
   "execution_count": null,
   "metadata": {
    "ExecuteTime": {
     "end_time": "2020-09-11T06:45:39.276323Z",
     "start_time": "2020-09-11T06:45:39.257337Z"
    }
   },
   "outputs": [],
   "source": [
    "print(cluster_center_coords_to_numbers)"
   ]
  },
  {
   "cell_type": "code",
   "execution_count": null,
   "metadata": {
    "ExecuteTime": {
     "end_time": "2020-09-11T06:55:45.505166Z",
     "start_time": "2020-09-11T06:55:45.497039Z"
    }
   },
   "outputs": [],
   "source": [
    "offices = [[33.751277, -118.188740],\n",
    "[25.867736, -80.324116],\n",
    "[51.503016, -0.075479],\n",
    "[52.378894, 4.885084],\n",
    "[39.366487, 117.036146],\n",
    "[-33.868457, 151.205134]]"
   ]
  },
  {
   "cell_type": "code",
   "execution_count": null,
   "metadata": {
    "ExecuteTime": {
     "end_time": "2020-09-11T06:55:45.514142Z",
     "start_time": "2020-09-11T06:55:45.507141Z"
    }
   },
   "outputs": [],
   "source": [
    "from numpy.linalg import norm\n",
    "from scipy.spatial.distance import euclidean"
   ]
  },
  {
   "cell_type": "code",
   "execution_count": null,
   "metadata": {
    "ExecuteTime": {
     "end_time": "2020-09-11T06:55:45.538161Z",
     "start_time": "2020-09-11T06:55:45.515118Z"
    }
   },
   "outputs": [],
   "source": [
    "list_tmp = []\n",
    "dict_tmp = dict()\n",
    "for key, value in cluster_center_coords_to_numbers.items():\n",
    "    norm_tmp = 10000000\n",
    "    for office in offices:\n",
    "        a = euclidean(value, office)\n",
    "        #print(a)\n",
    "        if (norm_tmp > a):\n",
    "            norm_tmp = a\n",
    "    #list_tmp.append()\n",
    "    dict_tmp[norm_tmp] = value\n"
   ]
  },
  {
   "cell_type": "code",
   "execution_count": null,
   "metadata": {
    "ExecuteTime": {
     "end_time": "2020-09-11T06:55:45.544041Z",
     "start_time": "2020-09-11T06:55:45.540052Z"
    },
    "scrolled": true
   },
   "outputs": [],
   "source": [
    "key_min = 1000000\n",
    "for key, value in dict_tmp.items():\n",
    "    if (key < key_min):\n",
    "        key_min = key"
   ]
  },
  {
   "cell_type": "code",
   "execution_count": null,
   "metadata": {
    "ExecuteTime": {
     "end_time": "2020-09-11T06:56:23.499102Z",
     "start_time": "2020-09-11T06:56:23.495113Z"
    }
   },
   "outputs": [],
   "source": [
    "print(key_min)"
   ]
  },
  {
   "cell_type": "code",
   "execution_count": null,
   "metadata": {
    "ExecuteTime": {
     "end_time": "2020-09-11T06:56:45.899034Z",
     "start_time": "2020-09-11T06:56:45.894049Z"
    }
   },
   "outputs": [],
   "source": [
    "with open('result.txt', 'w') as file:\n",
    "    file.write(''.join(map(str, dict_tmp[key_min])))"
   ]
  }
 ],
 "metadata": {
  "kernelspec": {
   "display_name": "Python 3",
   "language": "python",
   "name": "python3"
  },
  "language_info": {
   "codemirror_mode": {
    "name": "ipython",
    "version": 3
   },
   "file_extension": ".py",
   "mimetype": "text/x-python",
   "name": "python",
   "nbconvert_exporter": "python",
   "pygments_lexer": "ipython3",
   "version": "3.7.9"
  }
 },
 "nbformat": 4,
 "nbformat_minor": 4
}

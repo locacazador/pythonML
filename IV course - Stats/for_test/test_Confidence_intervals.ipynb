{
 "cells": [
  {
   "cell_type": "code",
   "execution_count": 8,
   "metadata": {
    "ExecuteTime": {
     "end_time": "2020-09-22T16:48:17.227541Z",
     "start_time": "2020-09-22T16:48:16.720303Z"
    }
   },
   "outputs": [],
   "source": [
    "import scipy "
   ]
  },
  {
   "cell_type": "code",
   "execution_count": 7,
   "metadata": {
    "ExecuteTime": {
     "end_time": "2020-09-22T12:50:28.734236Z",
     "start_time": "2020-09-22T12:50:28.728277Z"
    }
   },
   "outputs": [
    {
     "data": {
      "text/plain": [
       "2.9677379253417944"
      ]
     },
     "execution_count": 7,
     "metadata": {},
     "output_type": "execute_result"
    }
   ],
   "source": [
    "scipy.stats.norm.ppf(0.9985)"
   ]
  },
  {
   "cell_type": "code",
   "execution_count": 8,
   "metadata": {
    "ExecuteTime": {
     "end_time": "2020-09-22T12:56:55.873289Z",
     "start_time": "2020-09-22T12:56:55.869298Z"
    }
   },
   "outputs": [],
   "source": [
    "import numpy as np"
   ]
  },
  {
   "cell_type": "code",
   "execution_count": 9,
   "metadata": {
    "ExecuteTime": {
     "end_time": "2020-09-22T16:48:18.603115Z",
     "start_time": "2020-09-22T16:48:18.600123Z"
    }
   },
   "outputs": [],
   "source": [
    "placebo = np.zeros(11034)\n",
    "aspirin = np.zeros(11037)"
   ]
  },
  {
   "cell_type": "code",
   "execution_count": 10,
   "metadata": {
    "ExecuteTime": {
     "end_time": "2020-09-22T16:48:19.644292Z",
     "start_time": "2020-09-22T16:48:19.640303Z"
    }
   },
   "outputs": [],
   "source": [
    "for i in range(189):\n",
    "    if (i < 104):\n",
    "        aspirin[i] = 1\n",
    "    placebo[i] = 1\n"
   ]
  },
  {
   "cell_type": "code",
   "execution_count": 14,
   "metadata": {
    "ExecuteTime": {
     "end_time": "2020-09-22T12:58:59.477803Z",
     "start_time": "2020-09-22T12:58:59.474803Z"
    }
   },
   "outputs": [
    {
     "name": "stdout",
     "output_type": "stream",
     "text": [
      "0.0077060239760047815\n"
     ]
    }
   ],
   "source": [
    "print(placebo.sum() / len(placebo) - aspirin.sum() / len(aspirin))"
   ]
  },
  {
   "cell_type": "code",
   "execution_count": 60,
   "metadata": {
    "ExecuteTime": {
     "end_time": "2020-09-22T13:45:20.615650Z",
     "start_time": "2020-09-22T13:45:20.608670Z"
    }
   },
   "outputs": [],
   "source": [
    "def count_propotional_diff(data1, data2, alpha = 0.05):\n",
    "    from numpy import sqrt\n",
    "    import scipy.stats as st\n",
    "    p1 = float(data1.sum()) / len(data1)\n",
    "    p2 = float(data2.sum()) / len(data2)\n",
    "    z_alpha = st.norm.ppf(1 - alpha / 2.)\n",
    "    lower_bound = (p2 - p1) - z_alpha * (sqrt( p1 * (1 - p1) / len(data1) + p2 * (1 - p2) / len(data2) ))\n",
    "    upper_bound = (p2 - p1) + z_alpha * (sqrt( p1 * (1 - p1) / len(data1) + p2 * (1 - p2) / len(data2) ))\n",
    "    return (lower_bound, upper_bound)"
   ]
  },
  {
   "cell_type": "code",
   "execution_count": 61,
   "metadata": {
    "ExecuteTime": {
     "end_time": "2020-09-22T13:45:22.333534Z",
     "start_time": "2020-09-22T13:45:22.328573Z"
    }
   },
   "outputs": [
    {
     "name": "stdout",
     "output_type": "stream",
     "text": [
      "(0.004687750675049439, 0.010724297276960124)\n"
     ]
    }
   ],
   "source": [
    "print(count_propotional_diff(aspirin, placebo, alpha = 0.05))"
   ]
  },
  {
   "cell_type": "code",
   "execution_count": 6,
   "metadata": {
    "ExecuteTime": {
     "end_time": "2020-09-22T16:48:09.899407Z",
     "start_time": "2020-09-22T16:48:09.896439Z"
    }
   },
   "outputs": [],
   "source": [
    "def count_chances(data):\n",
    "    p = data.sum() / len(data)\n",
    "    return p / (1 - p)\n"
   ]
  },
  {
   "cell_type": "code",
   "execution_count": 19,
   "metadata": {
    "ExecuteTime": {
     "end_time": "2020-09-22T13:16:11.195986Z",
     "start_time": "2020-09-22T13:16:11.191024Z"
    }
   },
   "outputs": [
    {
     "name": "stdout",
     "output_type": "stream",
     "text": [
      "1.8320539419087138\n"
     ]
    }
   ],
   "source": [
    "print(count_chances(placebo) / count_chances(aspirin), sep = '\\t')"
   ]
  },
  {
   "cell_type": "markdown",
   "metadata": {},
   "source": [
    "\n",
    "Величина, которую вы оценили в предыдущем вопросе, называется отношением шансов. Постройте для отношения шансов 95% доверительный интервал с помощью бутстрепа. Чему равна его нижняя граница? Округлите ответ до 4 знаков после десятичной точки.\n",
    "\n",
    "Чтобы получить в точности такой же доверительный интервал, как у нас:\n",
    "\n",
    "составьте векторы исходов в контрольной и тестовой выборках так, чтобы в начале шли все единицы, а потом все нули;\n",
    "\n",
    "установите random seed=0;\n",
    "\n",
    "сделайте по 1000 псевдовыборок из каждой группы пациентов с помощью функции get_bootstrap_samples"
   ]
  },
  {
   "cell_type": "code",
   "execution_count": 4,
   "metadata": {
    "ExecuteTime": {
     "end_time": "2020-09-22T16:48:07.188042Z",
     "start_time": "2020-09-22T16:48:07.184080Z"
    }
   },
   "outputs": [],
   "source": [
    "# функция из тетрадки для получения бутстрапированных выборок\n",
    "def get_bootstrap_samples(data, n_samples):\n",
    "    indices = np.random.randint(0, len(data), (n_samples, len(data)))\n",
    "    samples = data[indices]\n",
    "    return samples"
   ]
  },
  {
   "cell_type": "code",
   "execution_count": 5,
   "metadata": {
    "ExecuteTime": {
     "end_time": "2020-09-22T16:48:08.276349Z",
     "start_time": "2020-09-22T16:48:08.272360Z"
    }
   },
   "outputs": [],
   "source": [
    "def stat_intervals(stat, alpha):\n",
    "    boundaries = np.percentile(stat, [100 * alpha / 2., 100 * (1 - alpha / 2.)])\n",
    "    return boundaries"
   ]
  },
  {
   "cell_type": "code",
   "execution_count": 2,
   "metadata": {
    "ExecuteTime": {
     "end_time": "2020-09-22T16:48:03.744901Z",
     "start_time": "2020-09-22T16:48:03.393292Z"
    }
   },
   "outputs": [],
   "source": [
    "import numpy as np"
   ]
  },
  {
   "cell_type": "code",
   "execution_count": 12,
   "metadata": {
    "ExecuteTime": {
     "end_time": "2020-09-22T16:49:59.610209Z",
     "start_time": "2020-09-22T16:49:59.175753Z"
    }
   },
   "outputs": [],
   "source": [
    "np.random.seed(0)\n",
    "\n",
    "list_chances_for_placebo = np.array(list(map(count_chances, get_bootstrap_samples(placebo, 1000))))\n",
    "\n",
    "list_chances_for_aspirin = np.array(list(map(count_chances, get_bootstrap_samples(aspirin,1000))))"
   ]
  },
  {
   "cell_type": "code",
   "execution_count": 15,
   "metadata": {
    "ExecuteTime": {
     "end_time": "2020-09-22T16:58:10.158190Z",
     "start_time": "2020-09-22T16:58:10.155199Z"
    }
   },
   "outputs": [],
   "source": [
    "#print(list_chances_for_aspirin / list_chances_for_placebo)"
   ]
  },
  {
   "cell_type": "code",
   "execution_count": 63,
   "metadata": {
    "ExecuteTime": {
     "end_time": "2020-09-22T13:47:37.971968Z",
     "start_time": "2020-09-22T13:47:37.968004Z"
    },
    "scrolled": true
   },
   "outputs": [],
   "source": [
    "#list_diff = np.array(map(lambda x: x[0] / x[1], zip(list_chances_for_placebo, list_chances_for_aspirin)))"
   ]
  },
  {
   "cell_type": "code",
   "execution_count": 14,
   "metadata": {
    "ExecuteTime": {
     "end_time": "2020-09-22T16:50:04.116307Z",
     "start_time": "2020-09-22T16:50:04.112317Z"
    }
   },
   "outputs": [
    {
     "name": "stdout",
     "output_type": "stream",
     "text": [
      "[1.46286276 2.35093673]\n"
     ]
    }
   ],
   "source": [
    "print(stat_intervals(list_chances_for_placebo / list_chances_for_aspirin, alpha = 0.05))"
   ]
  },
  {
   "cell_type": "code",
   "execution_count": null,
   "metadata": {},
   "outputs": [],
   "source": []
  }
 ],
 "metadata": {
  "kernelspec": {
   "display_name": "Python 3",
   "language": "python",
   "name": "python3"
  },
  "language_info": {
   "codemirror_mode": {
    "name": "ipython",
    "version": 3
   },
   "file_extension": ".py",
   "mimetype": "text/x-python",
   "name": "python",
   "nbconvert_exporter": "python",
   "pygments_lexer": "ipython3",
   "version": "3.7.9"
  }
 },
 "nbformat": 4,
 "nbformat_minor": 4
}

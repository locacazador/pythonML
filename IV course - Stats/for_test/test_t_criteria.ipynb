{
 "cells": [
  {
   "cell_type": "code",
   "execution_count": 1,
   "metadata": {
    "ExecuteTime": {
     "end_time": "2020-09-25T06:17:53.566973Z",
     "start_time": "2020-09-25T06:17:52.386645Z"
    }
   },
   "outputs": [],
   "source": [
    "import scipy"
   ]
  },
  {
   "cell_type": "markdown",
   "metadata": {},
   "source": [
    "\n",
    "Уровень кальция в крови здоровых молодых женщин равен в среднем 9.5 милиграммам на децилитр и имеет характерное стандартное отклонение 0.4 мг/дл. В сельской больнице Гватемалы для 160 здоровых беременных женщин при первом обращении для ведения беременности был измерен уровень кальция; среднее значение составило 9.57 мг/дл. Можно ли утверждать, что средний уровень кальция в этой популяции отличается от 9.5?\n",
    "\n",
    "Посчитайте достигаемый уровень значимости. Поскольку известны только среднее и дисперсия, а не сама выборка, нельзя использовать стандартные функции критериев — нужно реализовать формулу достигаемого уровня значимости самостоятельно."
   ]
  },
  {
   "cell_type": "code",
   "execution_count": 2,
   "metadata": {
    "ExecuteTime": {
     "end_time": "2020-09-25T06:58:39.034658Z",
     "start_time": "2020-09-25T06:58:39.030693Z"
    }
   },
   "outputs": [],
   "source": [
    "# обозначим данные \n",
    "mean_predict = 9.5\n",
    "mean_observed = 9.57\n",
    "n_samples = 160\n",
    "std = 0.4"
   ]
  },
  {
   "cell_type": "code",
   "execution_count": 8,
   "metadata": {
    "ExecuteTime": {
     "end_time": "2020-09-25T06:59:50.531763Z",
     "start_time": "2020-09-25T06:59:50.528763Z"
    }
   },
   "outputs": [],
   "source": [
    "import numpy as np\n",
    "from scipy import stats\n",
    "def count_level(mean, std, n_size, mean_observed):\n",
    "    std_error_cnt = std / np.sqrt(n_size)\n",
    "    z_point = (mean_observed - mean) / std_error_cnt\n",
    "    t_distribution = stats.norm.cdf(z_point)\n",
    "    return 2 * (1 - t_distribution)"
   ]
  },
  {
   "cell_type": "code",
   "execution_count": 9,
   "metadata": {
    "ExecuteTime": {
     "end_time": "2020-09-25T06:59:51.940955Z",
     "start_time": "2020-09-25T06:59:51.935969Z"
    }
   },
   "outputs": [
    {
     "name": "stdout",
     "output_type": "stream",
     "text": [
      "0.0269\n"
     ]
    }
   ],
   "source": [
    "print('%.4f' % count_level(mean_predict, std, n_samples, mean_observed))"
   ]
  },
  {
   "cell_type": "markdown",
   "metadata": {},
   "source": [
    "Отделите 25% случайных наблюдений в тестовую выборку с помощью функции sklearn.cross_validation.train_test_split (зафиксируйте random state = 1). На обучающей выборке настройте две регрессионные модели:\n",
    "\n",
    "* линейную регрессию с помощью LinearRegression без параметров\n",
    "\n",
    "* случайный лес из 10 деревьев с помощью RandomForestRegressor с random_state=1.\n",
    "\n",
    "Какая из моделей лучше предсказывает цену бриллиантов? Сделайте предсказания на тестовой выборке, посчитайте модули отклонений предсказаний от истинных цен. Проверьте гипотезу об одинаковом среднем качестве предсказаний, вычислите достигаемый уровень значимости. \n",
    "Отвергается ли гипотеза об одинаковом качестве моделей против двусторонней альтернативы на уровне значимости α=0.05?"
   ]
  },
  {
   "cell_type": "code",
   "execution_count": 12,
   "metadata": {
    "ExecuteTime": {
     "end_time": "2020-09-25T07:08:53.883509Z",
     "start_time": "2020-09-25T07:08:52.938667Z"
    }
   },
   "outputs": [],
   "source": [
    "# Импортируем необходимые модули\n",
    "from sklearn.model_selection import train_test_split\n",
    "from sklearn.linear_model import LinearRegression\n",
    "from sklearn.ensemble import RandomForestRegressor\n",
    "import pandas as pd"
   ]
  },
  {
   "cell_type": "code",
   "execution_count": 24,
   "metadata": {
    "ExecuteTime": {
     "end_time": "2020-09-25T07:12:09.458545Z",
     "start_time": "2020-09-25T07:12:09.423539Z"
    }
   },
   "outputs": [],
   "source": [
    "# импортируем данные из diamonds.txt\n",
    "data = pd.read_csv('diamonds.txt', sep = '\\t')"
   ]
  },
  {
   "cell_type": "code",
   "execution_count": 25,
   "metadata": {
    "ExecuteTime": {
     "end_time": "2020-09-25T07:12:10.649940Z",
     "start_time": "2020-09-25T07:12:10.638994Z"
    }
   },
   "outputs": [
    {
     "data": {
      "text/html": [
       "<div>\n",
       "<style scoped>\n",
       "    .dataframe tbody tr th:only-of-type {\n",
       "        vertical-align: middle;\n",
       "    }\n",
       "\n",
       "    .dataframe tbody tr th {\n",
       "        vertical-align: top;\n",
       "    }\n",
       "\n",
       "    .dataframe thead th {\n",
       "        text-align: right;\n",
       "    }\n",
       "</style>\n",
       "<table border=\"1\" class=\"dataframe\">\n",
       "  <thead>\n",
       "    <tr style=\"text-align: right;\">\n",
       "      <th></th>\n",
       "      <th>carat</th>\n",
       "      <th>depth</th>\n",
       "      <th>table</th>\n",
       "      <th>price</th>\n",
       "      <th>x</th>\n",
       "      <th>y</th>\n",
       "      <th>z</th>\n",
       "    </tr>\n",
       "  </thead>\n",
       "  <tbody>\n",
       "    <tr>\n",
       "      <th>0</th>\n",
       "      <td>0.23</td>\n",
       "      <td>61.5</td>\n",
       "      <td>55.0</td>\n",
       "      <td>326</td>\n",
       "      <td>3.95</td>\n",
       "      <td>3.98</td>\n",
       "      <td>2.43</td>\n",
       "    </tr>\n",
       "    <tr>\n",
       "      <th>1</th>\n",
       "      <td>0.21</td>\n",
       "      <td>59.8</td>\n",
       "      <td>61.0</td>\n",
       "      <td>326</td>\n",
       "      <td>3.89</td>\n",
       "      <td>3.84</td>\n",
       "      <td>2.31</td>\n",
       "    </tr>\n",
       "    <tr>\n",
       "      <th>2</th>\n",
       "      <td>0.23</td>\n",
       "      <td>56.9</td>\n",
       "      <td>65.0</td>\n",
       "      <td>327</td>\n",
       "      <td>4.05</td>\n",
       "      <td>4.07</td>\n",
       "      <td>2.31</td>\n",
       "    </tr>\n",
       "    <tr>\n",
       "      <th>3</th>\n",
       "      <td>0.29</td>\n",
       "      <td>62.4</td>\n",
       "      <td>58.0</td>\n",
       "      <td>334</td>\n",
       "      <td>4.20</td>\n",
       "      <td>4.23</td>\n",
       "      <td>2.63</td>\n",
       "    </tr>\n",
       "    <tr>\n",
       "      <th>4</th>\n",
       "      <td>0.31</td>\n",
       "      <td>63.3</td>\n",
       "      <td>58.0</td>\n",
       "      <td>335</td>\n",
       "      <td>4.34</td>\n",
       "      <td>4.35</td>\n",
       "      <td>2.75</td>\n",
       "    </tr>\n",
       "  </tbody>\n",
       "</table>\n",
       "</div>"
      ],
      "text/plain": [
       "   carat  depth  table  price     x     y     z\n",
       "0   0.23   61.5   55.0    326  3.95  3.98  2.43\n",
       "1   0.21   59.8   61.0    326  3.89  3.84  2.31\n",
       "2   0.23   56.9   65.0    327  4.05  4.07  2.31\n",
       "3   0.29   62.4   58.0    334  4.20  4.23  2.63\n",
       "4   0.31   63.3   58.0    335  4.34  4.35  2.75"
      ]
     },
     "execution_count": 25,
     "metadata": {},
     "output_type": "execute_result"
    }
   ],
   "source": [
    "# проверим корректность импорта данных\n",
    "data.head(5)"
   ]
  },
  {
   "cell_type": "code",
   "execution_count": 26,
   "metadata": {
    "ExecuteTime": {
     "end_time": "2020-09-25T07:12:17.277900Z",
     "start_time": "2020-09-25T07:12:17.270944Z"
    }
   },
   "outputs": [],
   "source": [
    "# отделим метку класса, а именно цену\n",
    "price = data.price\n",
    "data.drop('price', axis=1,inplace=True)"
   ]
  },
  {
   "cell_type": "code",
   "execution_count": 27,
   "metadata": {
    "ExecuteTime": {
     "end_time": "2020-09-25T07:12:18.599518Z",
     "start_time": "2020-09-25T07:12:18.590568Z"
    }
   },
   "outputs": [
    {
     "name": "stdout",
     "output_type": "stream",
     "text": [
      "       carat  depth  table     x     y     z\n",
      "0       0.23   61.5   55.0  3.95  3.98  2.43\n",
      "1       0.21   59.8   61.0  3.89  3.84  2.31\n",
      "2       0.23   56.9   65.0  4.05  4.07  2.31\n",
      "3       0.29   62.4   58.0  4.20  4.23  2.63\n",
      "4       0.31   63.3   58.0  4.34  4.35  2.75\n",
      "...      ...    ...    ...   ...   ...   ...\n",
      "53935   0.72   60.8   57.0  5.75  5.76  3.50\n",
      "53936   0.72   63.1   55.0  5.69  5.75  3.61\n",
      "53937   0.70   62.8   60.0  5.66  5.68  3.56\n",
      "53938   0.86   61.0   58.0  6.15  6.12  3.74\n",
      "53939   0.75   62.2   55.0  5.83  5.87  3.64\n",
      "\n",
      "[53940 rows x 6 columns]\n"
     ]
    }
   ],
   "source": [
    "print(data)"
   ]
  },
  {
   "cell_type": "code",
   "execution_count": 28,
   "metadata": {
    "ExecuteTime": {
     "end_time": "2020-09-25T07:15:24.956759Z",
     "start_time": "2020-09-25T07:15:24.940790Z"
    }
   },
   "outputs": [],
   "source": [
    "# Разделим данные на обучение и тест с помощь train_test_split\n",
    "train_data, test_data, price_train, price_test = train_test_split(data, price, test_size = 0.25, random_state = 1)"
   ]
  },
  {
   "cell_type": "code",
   "execution_count": 32,
   "metadata": {
    "ExecuteTime": {
     "end_time": "2020-09-25T07:18:25.609645Z",
     "start_time": "2020-09-25T07:18:24.526226Z"
    }
   },
   "outputs": [
    {
     "data": {
      "text/plain": [
       "RandomForestRegressor(n_estimators=10, random_state=1)"
      ]
     },
     "execution_count": 32,
     "metadata": {},
     "output_type": "execute_result"
    }
   ],
   "source": [
    "# Обучим два классификатора - линейный и случайный лес\n",
    "model_linear = LinearRegression()\n",
    "model_forest = RandomForestRegressor(n_estimators=10, random_state=1)\n",
    "\n",
    "model_linear.fit(train_data, price_train)\n",
    "model_forest.fit(train_data, price_train)"
   ]
  },
  {
   "cell_type": "code",
   "execution_count": 33,
   "metadata": {
    "ExecuteTime": {
     "end_time": "2020-09-25T07:19:36.255477Z",
     "start_time": "2020-09-25T07:19:36.203542Z"
    }
   },
   "outputs": [],
   "source": [
    "# предскажем значения с помощью двух моделей\n",
    "predicted_linear = model_linear.predict(test_data)\n",
    "predicted_forest = model_forest.predict(test_data)"
   ]
  },
  {
   "cell_type": "code",
   "execution_count": 38,
   "metadata": {
    "ExecuteTime": {
     "end_time": "2020-09-25T07:23:47.405350Z",
     "start_time": "2020-09-25T07:23:47.401376Z"
    }
   },
   "outputs": [],
   "source": [
    "linear_diff = abs(predicted_linear - price_test)\n",
    "forest_diff = abs(predicted_forest - price_test)"
   ]
  },
  {
   "cell_type": "code",
   "execution_count": 40,
   "metadata": {
    "ExecuteTime": {
     "end_time": "2020-09-25T07:23:56.964393Z",
     "start_time": "2020-09-25T07:23:56.961402Z"
    }
   },
   "outputs": [],
   "source": [
    "#print(linear_diff)"
   ]
  },
  {
   "cell_type": "code",
   "execution_count": 41,
   "metadata": {
    "ExecuteTime": {
     "end_time": "2020-09-25T07:27:23.503433Z",
     "start_time": "2020-09-25T07:27:23.491490Z"
    }
   },
   "outputs": [
    {
     "data": {
      "text/plain": [
       "Ttest_relResult(statistic=13.017729783878252, pvalue=1.6551745751479057e-38)"
      ]
     },
     "execution_count": 41,
     "metadata": {},
     "output_type": "execute_result"
    }
   ],
   "source": [
    "# Проведем t_test\n",
    "stats.ttest_rel(linear_diff, forest_diff)"
   ]
  },
  {
   "cell_type": "markdown",
   "metadata": {},
   "source": [
    "В предыдущей задаче посчитайте 95% доверительный интервал для разности средних абсолютных ошибок предсказаний регрессии и случайного леса. Чему равна его ближайшая к нулю граница? Округлите до десятков (поскольку случайный лес может давать немного разные предсказания в зависимости от версий библиотек, мы просим вас так сильно округлить, чтобы полученное значение наверняка совпало с нашим).\n",
    "\n"
   ]
  },
  {
   "cell_type": "code",
   "execution_count": 44,
   "metadata": {
    "ExecuteTime": {
     "end_time": "2020-09-25T07:44:39.828886Z",
     "start_time": "2020-09-25T07:44:39.824899Z"
    }
   },
   "outputs": [],
   "source": [
    "from statsmodels.stats.weightstats import DescrStatsW"
   ]
  },
  {
   "cell_type": "code",
   "execution_count": 45,
   "metadata": {
    "ExecuteTime": {
     "end_time": "2020-09-25T07:46:56.531555Z",
     "start_time": "2020-09-25T07:46:56.527583Z"
    }
   },
   "outputs": [],
   "source": [
    "stats_data = DescrStatsW(linear_diff - forest_diff)"
   ]
  },
  {
   "cell_type": "code",
   "execution_count": 49,
   "metadata": {
    "ExecuteTime": {
     "end_time": "2020-09-25T08:05:56.081100Z",
     "start_time": "2020-09-25T08:05:56.077134Z"
    }
   },
   "outputs": [
    {
     "name": "stdout",
     "output_type": "stream",
     "text": [
      "(74.28724532595251, 100.62452098634108)\n"
     ]
    }
   ],
   "source": [
    "print(stats_data.tconfint_mean())"
   ]
  },
  {
   "cell_type": "code",
   "execution_count": null,
   "metadata": {},
   "outputs": [],
   "source": []
  }
 ],
 "metadata": {
  "kernelspec": {
   "display_name": "Python 3",
   "language": "python",
   "name": "python3"
  },
  "language_info": {
   "codemirror_mode": {
    "name": "ipython",
    "version": 3
   },
   "file_extension": ".py",
   "mimetype": "text/x-python",
   "name": "python",
   "nbconvert_exporter": "python",
   "pygments_lexer": "ipython3",
   "version": "3.7.9"
  }
 },
 "nbformat": 4,
 "nbformat_minor": 4
}

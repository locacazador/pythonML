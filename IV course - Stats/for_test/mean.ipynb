{
 "cells": [
  {
   "cell_type": "code",
   "execution_count": 1,
   "metadata": {
    "ExecuteTime": {
     "end_time": "2020-09-21T06:33:00.681231Z",
     "start_time": "2020-09-21T06:32:59.310799Z"
    }
   },
   "outputs": [],
   "source": [
    "import pandas as pd"
   ]
  },
  {
   "cell_type": "code",
   "execution_count": 2,
   "metadata": {
    "ExecuteTime": {
     "end_time": "2020-09-21T06:33:59.155708Z",
     "start_time": "2020-09-21T06:33:59.145734Z"
    }
   },
   "outputs": [],
   "source": [
    "data = pd.read_csv('water.txt', delimiter='\\t')"
   ]
  },
  {
   "cell_type": "code",
   "execution_count": 4,
   "metadata": {
    "ExecuteTime": {
     "end_time": "2020-09-21T06:34:20.421843Z",
     "start_time": "2020-09-21T06:34:20.417855Z"
    }
   },
   "outputs": [
    {
     "name": "stdout",
     "output_type": "stream",
     "text": [
      "1524.1475409836066\n"
     ]
    }
   ],
   "source": [
    "print(data.mortality.mean())"
   ]
  },
  {
   "cell_type": "code",
   "execution_count": 6,
   "metadata": {
    "ExecuteTime": {
     "end_time": "2020-09-21T06:36:08.610413Z",
     "start_time": "2020-09-21T06:36:08.607448Z"
    }
   },
   "outputs": [],
   "source": [
    "from numpy import sqrt"
   ]
  },
  {
   "cell_type": "code",
   "execution_count": 28,
   "metadata": {
    "ExecuteTime": {
     "end_time": "2020-09-21T06:47:53.347857Z",
     "start_time": "2020-09-21T06:47:53.343868Z"
    }
   },
   "outputs": [],
   "source": [
    "from statsmodels.stats.weightstats import _zconfint_generic, _tconfint_generic"
   ]
  },
  {
   "cell_type": "code",
   "execution_count": 7,
   "metadata": {
    "ExecuteTime": {
     "end_time": "2020-09-21T06:36:11.661104Z",
     "start_time": "2020-09-21T06:36:11.657140Z"
    }
   },
   "outputs": [],
   "source": [
    "result_lower = data.mortality.mean() - (data.mortality.std(ddof=1) * 1.96 / sqrt(len(data.mortality)))"
   ]
  },
  {
   "cell_type": "code",
   "execution_count": 29,
   "metadata": {
    "ExecuteTime": {
     "end_time": "2020-09-21T06:51:13.529281Z",
     "start_time": "2020-09-21T06:51:13.526282Z"
    }
   },
   "outputs": [
    {
     "name": "stdout",
     "output_type": "stream",
     "text": [
      "187.6687539314571\n"
     ]
    }
   ],
   "source": [
    "print(data.mortality.std(ddof=1))"
   ]
  },
  {
   "cell_type": "code",
   "execution_count": 50,
   "metadata": {
    "ExecuteTime": {
     "end_time": "2020-09-21T07:18:59.194321Z",
     "start_time": "2020-09-21T07:18:59.190332Z"
    }
   },
   "outputs": [],
   "source": [
    "std_mean = data.mortality.std(ddof=1) / sqrt(len(data.mortality))"
   ]
  },
  {
   "cell_type": "code",
   "execution_count": 58,
   "metadata": {
    "ExecuteTime": {
     "end_time": "2020-09-21T07:23:09.400082Z",
     "start_time": "2020-09-21T07:23:09.395093Z"
    }
   },
   "outputs": [],
   "source": [
    "result_1 = _tconfint_generic(data.mortality.mean(), std_mean, alpha=0.05,\n",
    "                             dof = len(data.mortality) - 1,alternative='two-sided')"
   ]
  },
  {
   "cell_type": "code",
   "execution_count": 59,
   "metadata": {
    "ExecuteTime": {
     "end_time": "2020-09-21T07:23:10.807869Z",
     "start_time": "2020-09-21T07:23:10.803905Z"
    }
   },
   "outputs": [
    {
     "name": "stdout",
     "output_type": "stream",
     "text": [
      "(1476.0833413552848, 1572.2117406119285)\n"
     ]
    }
   ],
   "source": [
    "print(result_1)"
   ]
  },
  {
   "cell_type": "code",
   "execution_count": 11,
   "metadata": {
    "ExecuteTime": {
     "end_time": "2020-09-21T06:38:19.068959Z",
     "start_time": "2020-09-21T06:38:19.064000Z"
    }
   },
   "outputs": [],
   "source": [
    "data_for_south = data[data.location=='South'].mortality"
   ]
  },
  {
   "cell_type": "code",
   "execution_count": 60,
   "metadata": {
    "ExecuteTime": {
     "end_time": "2020-09-21T07:23:44.561505Z",
     "start_time": "2020-09-21T07:23:44.556546Z"
    }
   },
   "outputs": [],
   "source": [
    "# доверительный интервал для годовой смертности южных городов\n",
    "result_2 = _tconfint_generic(data_for_south.mean(), data_for_south.std(ddof=1) / sqrt(len(data_for_south.values)), alpha=0.05,\n",
    "                            dof = len(data_for_south) - 1, alternative='two-sided')"
   ]
  },
  {
   "cell_type": "code",
   "execution_count": 61,
   "metadata": {
    "ExecuteTime": {
     "end_time": "2020-09-21T07:23:46.110828Z",
     "start_time": "2020-09-21T07:23:46.106838Z"
    }
   },
   "outputs": [
    {
     "name": "stdout",
     "output_type": "stream",
     "text": [
      "(1320.1517462936238, 1433.463638321761)\n"
     ]
    }
   ],
   "source": [
    "print(result_2)"
   ]
  },
  {
   "cell_type": "code",
   "execution_count": 23,
   "metadata": {
    "ExecuteTime": {
     "end_time": "2020-09-21T06:42:55.072507Z",
     "start_time": "2020-09-21T06:42:55.067521Z"
    }
   },
   "outputs": [],
   "source": [
    "data_for_north = data[data.location == 'North'].mortality"
   ]
  },
  {
   "cell_type": "code",
   "execution_count": 62,
   "metadata": {
    "ExecuteTime": {
     "end_time": "2020-09-21T07:23:52.336856Z",
     "start_time": "2020-09-21T07:23:52.331867Z"
    }
   },
   "outputs": [],
   "source": [
    "# доверительный интервал для годовой смертности северных городов\n",
    "result_3 = _tconfint_generic(data_for_north.mean(), data_for_north.std(ddof=1) / sqrt(len(data_for_north.values)), alpha=0.05,\n",
    "                            dof = len(data_for_north) - 1, alternative='two-sided')"
   ]
  },
  {
   "cell_type": "code",
   "execution_count": 63,
   "metadata": {
    "ExecuteTime": {
     "end_time": "2020-09-21T07:23:53.535851Z",
     "start_time": "2020-09-21T07:23:53.530863Z"
    }
   },
   "outputs": [
    {
     "name": "stdout",
     "output_type": "stream",
     "text": [
      "(1586.5605251961385, 1680.6394748038613)\n"
     ]
    }
   ],
   "source": [
    "print(result_3)"
   ]
  },
  {
   "cell_type": "code",
   "execution_count": 46,
   "metadata": {
    "ExecuteTime": {
     "end_time": "2020-09-21T07:07:17.647791Z",
     "start_time": "2020-09-21T07:07:17.642829Z"
    }
   },
   "outputs": [],
   "source": [
    "# выберем данные жесткости\n",
    "data_for_hardness_south = data[data.location == 'South'].hardness\n",
    "data_for_hardness_north = data[data.location == 'North'].hardness"
   ]
  },
  {
   "cell_type": "code",
   "execution_count": 47,
   "metadata": {
    "ExecuteTime": {
     "end_time": "2020-09-21T07:09:23.424933Z",
     "start_time": "2020-09-21T07:09:23.420956Z"
    }
   },
   "outputs": [],
   "source": [
    "# посчитаем отдельно интервалы\n",
    "# сначала посчитаем дисперсию для Юга и Севера\n",
    "std_mean_south = data_for_hardness_south.std(ddof = 1) / sqrt(len(data_for_hardness_south))\n",
    "std_mean_north = data_for_hardness_north.std(ddof = 1) / sqrt(len(data_for_hardness_north))"
   ]
  },
  {
   "cell_type": "code",
   "execution_count": 64,
   "metadata": {
    "ExecuteTime": {
     "end_time": "2020-09-21T07:24:03.448825Z",
     "start_time": "2020-09-21T07:24:03.443863Z"
    }
   },
   "outputs": [],
   "source": [
    "# Подставим в tconfint\n",
    "hardness_south = _tconfint_generic(data_for_hardness_south.mean(), std_mean_south, alpha=0.05,\n",
    "                                  dof = len(data_for_hardness_south) - 1, alternative='two-sided')\n",
    "hardness_north = _tconfint_generic(data_for_hardness_north.mean(), std_mean_north, alpha=0.05,\n",
    "                                  dof = len(data_for_hardness_north) - 1, alternative='two-sided')"
   ]
  },
  {
   "cell_type": "code",
   "execution_count": 65,
   "metadata": {
    "ExecuteTime": {
     "end_time": "2020-09-21T07:24:05.391717Z",
     "start_time": "2020-09-21T07:24:05.387728Z"
    }
   },
   "outputs": [
    {
     "name": "stdout",
     "output_type": "stream",
     "text": [
      "(21.42248728572426, 39.37751271427574)\t(53.467198692036106, 86.07126284642544)\n"
     ]
    }
   ],
   "source": [
    "print(hardness_north, hardness_south, sep = '\\t')"
   ]
  }
 ],
 "metadata": {
  "kernelspec": {
   "display_name": "Python 3",
   "language": "python",
   "name": "python3"
  },
  "language_info": {
   "codemirror_mode": {
    "name": "ipython",
    "version": 3
   },
   "file_extension": ".py",
   "mimetype": "text/x-python",
   "name": "python",
   "nbconvert_exporter": "python",
   "pygments_lexer": "ipython3",
   "version": "3.7.9"
  }
 },
 "nbformat": 4,
 "nbformat_minor": 4
}

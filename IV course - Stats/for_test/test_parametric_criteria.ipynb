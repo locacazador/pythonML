{
 "cells": [
  {
   "cell_type": "markdown",
   "metadata": {},
   "source": [
    "\n",
    "В одном из выпусков программы \"Разрушители легенд\" проверялось, действительно ли заразительна зевота. В эксперименте участвовало 50 испытуемых, проходивших собеседование на программу. Каждый из них разговаривал с рекрутером; в конце 34 из 50 бесед рекрутер зевал. Затем испытуемых просили подождать решения рекрутера в соседней пустой комнате.\n",
    "\n",
    "Во время ожидания 10 из 34 испытуемых экспериментальной группы и 4 из 16 испытуемых контрольной начали зевать. Таким образом, разница в доле зевающих людей в этих двух группах составила примерно 4.4%. Ведущие заключили, что миф о заразительности зевоты подтверждён.\n",
    "\n",
    "Можно ли утверждать, что доли зевающих в контрольной и экспериментальной группах отличаются статистически значимо? Посчитайте достигаемый уровень значимости при альтернативе заразительности зевоты, округлите до четырёх знаков после десятичной точки."
   ]
  },
  {
   "cell_type": "code",
   "execution_count": 1,
   "metadata": {
    "ExecuteTime": {
     "end_time": "2020-09-25T19:20:54.166868Z",
     "start_time": "2020-09-25T19:20:54.163889Z"
    }
   },
   "outputs": [],
   "source": [
    "# создадим переменные по условию\n",
    "experiment_yawn = 10     # 10 Испытуемых зевнули\n",
    "experiment_all = 34      # 34 Всего в экспериментальной группе\n",
    "control_yawn = 4         # 4 из контрольной группы зевнули\n",
    "control_all = 16         # 16 - объем контрольной выборки"
   ]
  },
  {
   "cell_type": "code",
   "execution_count": 2,
   "metadata": {
    "ExecuteTime": {
     "end_time": "2020-09-25T19:20:54.172851Z",
     "start_time": "2020-09-25T19:20:54.168861Z"
    }
   },
   "outputs": [],
   "source": [
    "# Будем считать, что выборки независимы, тогда рассмотрим Т-критерий для бернулли"
   ]
  },
  {
   "cell_type": "code",
   "execution_count": 3,
   "metadata": {
    "ExecuteTime": {
     "end_time": "2020-09-25T19:20:54.635800Z",
     "start_time": "2020-09-25T19:20:54.173848Z"
    }
   },
   "outputs": [],
   "source": [
    "import scipy.stats"
   ]
  },
  {
   "cell_type": "code",
   "execution_count": 4,
   "metadata": {
    "ExecuteTime": {
     "end_time": "2020-09-25T19:20:54.641725Z",
     "start_time": "2020-09-25T19:20:54.636768Z"
    }
   },
   "outputs": [],
   "source": [
    "# введем функцию для расчета p - value\n",
    "from numpy import sqrt\n",
    "import scipy.stats as st\n",
    "def count_p_value(sample1, n1, sample2, n2):\n",
    "    p1 = sample1 / n1\n",
    "    p2 = sample2 / n2\n",
    "    P = (p1 * n1 + p2 * n2) / (n1 + n2)\n",
    "    z_point = (p1 - p2) / sqrt( P * (1 - P) * (1 / n1 + 1 / n2)  ) \n",
    "    return 1 - st.norm.cdf(z_point)"
   ]
  },
  {
   "cell_type": "code",
   "execution_count": 5,
   "metadata": {
    "ExecuteTime": {
     "end_time": "2020-09-25T19:20:54.649790Z",
     "start_time": "2020-09-25T19:20:54.642722Z"
    }
   },
   "outputs": [],
   "source": [
    "res = count_p_value(experiment_yawn, experiment_all, control_yawn, control_all)"
   ]
  },
  {
   "cell_type": "code",
   "execution_count": 6,
   "metadata": {
    "ExecuteTime": {
     "end_time": "2020-09-25T19:20:54.661679Z",
     "start_time": "2020-09-25T19:20:54.651699Z"
    }
   },
   "outputs": [
    {
     "name": "stdout",
     "output_type": "stream",
     "text": [
      "0.3729\n"
     ]
    }
   ],
   "source": [
    "print('{:.4f}'.format(res))"
   ]
  },
  {
   "cell_type": "markdown",
   "metadata": {},
   "source": [
    "Имеются данные измерений двухсот швейцарских тысячефранковых банкнот, бывших в обращении в первой половине XX века. Сто из банкнот были настоящими,и сто — поддельными. На рисунке ниже показаны измеренные признаки:"
   ]
  },
  {
   "cell_type": "markdown",
   "metadata": {},
   "source": [
    "<img src=\"back_horizontal.jpg\">"
   ]
  },
  {
   "cell_type": "markdown",
   "metadata": {},
   "source": [
    "Отделите 50 случайных наблюдений в тестовую выборку с помощью функции sklearn.cross_validation.train_test_split (зафиксируйте random state = 1). На оставшихся 150 настройте два классификатора поддельности банкнот:\n",
    "* логистическая регрессия по признакам $X_{1}$, $X_{2}$, $X_{3}$\n",
    "* логистическая регрессия по признакам $X_{4}$, $X_{5}$, $X_{6}$\n",
    "\n",
    "Каждым из классификаторов сделайте предсказания меток классов на тестовой выборке. Одинаковы ли доли ошибочных предсказаний двух классификаторов? Проверьте гипотезу, вычислите достигаемый уровень значимости. Введите номер первой значащей цифры (например, если вы получили $5.5 * 10^{-8}$, нужно ввести 8).\n",
    "\n"
   ]
  },
  {
   "cell_type": "code",
   "execution_count": 7,
   "metadata": {
    "ExecuteTime": {
     "end_time": "2020-09-25T19:20:55.350804Z",
     "start_time": "2020-09-25T19:20:54.664664Z"
    }
   },
   "outputs": [
    {
     "name": "stdout",
     "output_type": "stream",
     "text": [
      "Populating the interactive namespace from numpy and matplotlib\n"
     ]
    }
   ],
   "source": [
    "# импортируем модули \n",
    "import pandas as pd\n",
    "import numpy as np\n",
    "from sklearn.model_selection import train_test_split\n",
    "from sklearn.linear_model import LogisticRegression\n",
    "import matplotlib.pyplot as plt\n",
    "%pylab inline"
   ]
  },
  {
   "cell_type": "code",
   "execution_count": 8,
   "metadata": {
    "ExecuteTime": {
     "end_time": "2020-09-25T19:20:55.360753Z",
     "start_time": "2020-09-25T19:20:55.354769Z"
    }
   },
   "outputs": [],
   "source": [
    "# загрузим данные и визуализируем их\n",
    "data = pd.read_csv('banknotes.txt', delimiter='\\t')"
   ]
  },
  {
   "cell_type": "code",
   "execution_count": 9,
   "metadata": {
    "ExecuteTime": {
     "end_time": "2020-09-25T19:20:55.381710Z",
     "start_time": "2020-09-25T19:20:55.362748Z"
    }
   },
   "outputs": [
    {
     "data": {
      "text/html": [
       "<div>\n",
       "<style scoped>\n",
       "    .dataframe tbody tr th:only-of-type {\n",
       "        vertical-align: middle;\n",
       "    }\n",
       "\n",
       "    .dataframe tbody tr th {\n",
       "        vertical-align: top;\n",
       "    }\n",
       "\n",
       "    .dataframe thead th {\n",
       "        text-align: right;\n",
       "    }\n",
       "</style>\n",
       "<table border=\"1\" class=\"dataframe\">\n",
       "  <thead>\n",
       "    <tr style=\"text-align: right;\">\n",
       "      <th></th>\n",
       "      <th>X1</th>\n",
       "      <th>X2</th>\n",
       "      <th>X3</th>\n",
       "      <th>X4</th>\n",
       "      <th>X5</th>\n",
       "      <th>X6</th>\n",
       "      <th>real</th>\n",
       "    </tr>\n",
       "  </thead>\n",
       "  <tbody>\n",
       "    <tr>\n",
       "      <th>0</th>\n",
       "      <td>214.8</td>\n",
       "      <td>131.0</td>\n",
       "      <td>131.1</td>\n",
       "      <td>9.0</td>\n",
       "      <td>9.7</td>\n",
       "      <td>141.0</td>\n",
       "      <td>1</td>\n",
       "    </tr>\n",
       "    <tr>\n",
       "      <th>1</th>\n",
       "      <td>214.6</td>\n",
       "      <td>129.7</td>\n",
       "      <td>129.7</td>\n",
       "      <td>8.1</td>\n",
       "      <td>9.5</td>\n",
       "      <td>141.7</td>\n",
       "      <td>1</td>\n",
       "    </tr>\n",
       "    <tr>\n",
       "      <th>2</th>\n",
       "      <td>214.8</td>\n",
       "      <td>129.7</td>\n",
       "      <td>129.7</td>\n",
       "      <td>8.7</td>\n",
       "      <td>9.6</td>\n",
       "      <td>142.2</td>\n",
       "      <td>1</td>\n",
       "    </tr>\n",
       "    <tr>\n",
       "      <th>3</th>\n",
       "      <td>214.8</td>\n",
       "      <td>129.7</td>\n",
       "      <td>129.6</td>\n",
       "      <td>7.5</td>\n",
       "      <td>10.4</td>\n",
       "      <td>142.0</td>\n",
       "      <td>1</td>\n",
       "    </tr>\n",
       "    <tr>\n",
       "      <th>4</th>\n",
       "      <td>215.0</td>\n",
       "      <td>129.6</td>\n",
       "      <td>129.7</td>\n",
       "      <td>10.4</td>\n",
       "      <td>7.7</td>\n",
       "      <td>141.8</td>\n",
       "      <td>1</td>\n",
       "    </tr>\n",
       "  </tbody>\n",
       "</table>\n",
       "</div>"
      ],
      "text/plain": [
       "      X1     X2     X3    X4    X5     X6  real\n",
       "0  214.8  131.0  131.1   9.0   9.7  141.0     1\n",
       "1  214.6  129.7  129.7   8.1   9.5  141.7     1\n",
       "2  214.8  129.7  129.7   8.7   9.6  142.2     1\n",
       "3  214.8  129.7  129.6   7.5  10.4  142.0     1\n",
       "4  215.0  129.6  129.7  10.4   7.7  141.8     1"
      ]
     },
     "execution_count": 9,
     "metadata": {},
     "output_type": "execute_result"
    }
   ],
   "source": [
    "data.head(5)"
   ]
  },
  {
   "cell_type": "code",
   "execution_count": 10,
   "metadata": {
    "ExecuteTime": {
     "end_time": "2020-09-25T19:20:55.386684Z",
     "start_time": "2020-09-25T19:20:55.382694Z"
    }
   },
   "outputs": [],
   "source": [
    "# Отделим признаки на две группы: {𝑋1 ,  𝑋2 ,  𝑋3}, {𝑋4 ,  𝑋5 ,  𝑋6}\n",
    "first_group_features = ['X1', 'X2', 'X3']\n",
    "second_group_features = ['X4', 'X5', 'X6']"
   ]
  },
  {
   "cell_type": "code",
   "execution_count": 11,
   "metadata": {
    "ExecuteTime": {
     "end_time": "2020-09-25T19:20:55.394683Z",
     "start_time": "2020-09-25T19:20:55.388678Z"
    }
   },
   "outputs": [],
   "source": [
    "labels = data['real']"
   ]
  },
  {
   "cell_type": "code",
   "execution_count": 12,
   "metadata": {
    "ExecuteTime": {
     "end_time": "2020-09-25T19:20:55.404635Z",
     "start_time": "2020-09-25T19:20:55.396657Z"
    }
   },
   "outputs": [
    {
     "data": {
      "text/plain": [
       "(200,)"
      ]
     },
     "execution_count": 12,
     "metadata": {},
     "output_type": "execute_result"
    }
   ],
   "source": [
    "labels.shape"
   ]
  },
  {
   "cell_type": "code",
   "execution_count": 13,
   "metadata": {
    "ExecuteTime": {
     "end_time": "2020-09-25T19:20:55.415607Z",
     "start_time": "2020-09-25T19:20:55.408625Z"
    }
   },
   "outputs": [],
   "source": [
    "# Разделим на обучение и тест с помощь метода train_test_split\n",
    "train_data, test_data, train_labels, test_labels = train_test_split(data, labels,test_size = 0.25, random_state = 1)"
   ]
  },
  {
   "cell_type": "code",
   "execution_count": 14,
   "metadata": {
    "ExecuteTime": {
     "end_time": "2020-09-25T19:20:55.424602Z",
     "start_time": "2020-09-25T19:20:55.418599Z"
    },
    "scrolled": true
   },
   "outputs": [
    {
     "name": "stdout",
     "output_type": "stream",
     "text": [
      "(150, 7)\n"
     ]
    }
   ],
   "source": [
    "print(train_data.shape)"
   ]
  },
  {
   "cell_type": "markdown",
   "metadata": {},
   "source": [
    "## Оказывается, что необходимо указывать liblinear в параметр solver, так как дефолтное значение изменилось в более современных версиях sklearn"
   ]
  },
  {
   "cell_type": "code",
   "execution_count": 15,
   "metadata": {
    "ExecuteTime": {
     "end_time": "2020-09-25T19:20:55.439542Z",
     "start_time": "2020-09-25T19:20:55.426577Z"
    }
   },
   "outputs": [],
   "source": [
    "# Обучим модели\n",
    "model_1 = LogisticRegression(solver = 'liblinear')\n",
    "\n",
    "model_1.fit(train_data[first_group_features], train_labels)\n",
    "\n",
    "residual_1 =  abs(test_labels - model_1.predict(test_data[first_group_features]))"
   ]
  },
  {
   "cell_type": "code",
   "execution_count": 16,
   "metadata": {
    "ExecuteTime": {
     "end_time": "2020-09-25T19:20:55.451509Z",
     "start_time": "2020-09-25T19:20:55.441537Z"
    }
   },
   "outputs": [],
   "source": [
    "model_2 = LogisticRegression(solver = 'liblinear')\n",
    "model_2.fit(train_data[second_group_features], train_labels)\n",
    "residual_2 = abs(test_labels - model_2.predict(test_data[second_group_features]))"
   ]
  },
  {
   "cell_type": "code",
   "execution_count": 17,
   "metadata": {
    "ExecuteTime": {
     "end_time": "2020-09-25T19:20:55.458492Z",
     "start_time": "2020-09-25T19:20:55.452507Z"
    }
   },
   "outputs": [],
   "source": [
    "# Так как выборки зависимы, то необходимо использовать совместные значения\n",
    "import scipy.stats as st\n",
    "from numpy import sqrt\n",
    "def count_p_value_rel(sample1, sample2, alternative = 'two-sided'):\n",
    "    g,f = count_rel_matrix_elems(sample1, sample2)\n",
    "    z = float(f - g) / sqrt(f + g - float((f - g) ** 2) / len(sample1))\n",
    "    if (alternative == 'two-sided'):\n",
    "        return 2 * (1 - st.norm.cdf(abs(z)))\n",
    "    elif (alternative == 'more'):\n",
    "        return 1 - st.norm.cdf(z)\n",
    "    elif (alternative == 'less'):\n",
    "        return stats.norm.cdf(z)\n",
    "    else:\n",
    "        raise ValueError('wrong alternative')"
   ]
  },
  {
   "cell_type": "code",
   "execution_count": 18,
   "metadata": {
    "ExecuteTime": {
     "end_time": "2020-09-25T19:20:55.467468Z",
     "start_time": "2020-09-25T19:20:55.460486Z"
    }
   },
   "outputs": [],
   "source": [
    "def count_rel_matrix_elems(sample1, sample2):\n",
    "    g = sum([1 if (x[0] == 0 and x[1] == 1) else 0 for x in zip(sample1, sample2)])\n",
    "    f = sum([1 if (x[0] == 1 and x[1] == 0) else 0 for x in zip(sample1, sample2)])\n",
    "    return (g,f)"
   ]
  },
  {
   "cell_type": "code",
   "execution_count": 19,
   "metadata": {
    "ExecuteTime": {
     "end_time": "2020-09-25T19:20:55.476444Z",
     "start_time": "2020-09-25T19:20:55.468464Z"
    }
   },
   "outputs": [
    {
     "name": "stdout",
     "output_type": "stream",
     "text": [
      "0.0033\n"
     ]
    }
   ],
   "source": [
    "print('{:.4f}'.format(count_p_value_rel(residual_1, residual_2)))"
   ]
  },
  {
   "cell_type": "code",
   "execution_count": 20,
   "metadata": {
    "ExecuteTime": {
     "end_time": "2020-09-25T19:20:55.483425Z",
     "start_time": "2020-09-25T19:20:55.477440Z"
    }
   },
   "outputs": [],
   "source": [
    "def conf_int(sample1, sample2, alpha = 0.05):\n",
    "    g,f = count_rel_matrix_elems(sample1, sample2)\n",
    "    z = scipy.stats.norm.ppf(1 - alpha / 2.)\n",
    "    lower_bound = (f - g) / len(sample1) - z * sqrt( (f + g) / len(sample1) ** 2  - (f - g) ** 2 / len(sample1) ** 3)\n",
    "    upper_bound = (f - g) / len(sample1) + z * sqrt( (f + g) / len(sample1) ** 2  - (f - g) ** 2 / len(sample1) ** 3)\n",
    "    return (lower_bound, upper_bound)"
   ]
  },
  {
   "cell_type": "code",
   "execution_count": 21,
   "metadata": {
    "ExecuteTime": {
     "end_time": "2020-09-25T19:20:55.492400Z",
     "start_time": "2020-09-25T19:20:55.486417Z"
    }
   },
   "outputs": [
    {
     "name": "stdout",
     "output_type": "stream",
     "text": [
      "[0.0599, 0.3001]\n"
     ]
    }
   ],
   "source": [
    "print('[%.4f, %.4f]' % conf_int(residual_1, residual_2, alpha=0.05))"
   ]
  },
  {
   "cell_type": "markdown",
   "metadata": {},
   "source": [
    "Ежегодно более 200000 людей по всему миру сдают стандартизированный экзамен GMAT при поступлении на программы MBA. Средний результат составляет 525 баллов, стандартное отклонение — 100 баллов.\n",
    "\n",
    "\n",
    "\n",
    "Сто студентов закончили специальные подготовительные курсы и сдали экзамен. Средний полученный ими балл — 541.4. Проверьте гипотезу о неэффективности программы против односторонней альтернативы о том, что программа работает. Отвергается ли на уровне значимости 0.05 нулевая гипотеза? Введите достигаемый уровень значимости, округлённый до 4 знаков после десятичной точки."
   ]
  },
  {
   "cell_type": "code",
   "execution_count": 22,
   "metadata": {
    "ExecuteTime": {
     "end_time": "2020-09-25T19:20:55.498384Z",
     "start_time": "2020-09-25T19:20:55.493398Z"
    }
   },
   "outputs": [],
   "source": [
    "# создадим нужные переменные\n",
    "std_avg = 100\n",
    "size = 200000\n",
    "mean_point = 525\n",
    "mean_point_courses = 541.4\n",
    "count_in_courses = 100"
   ]
  },
  {
   "cell_type": "code",
   "execution_count": 23,
   "metadata": {
    "ExecuteTime": {
     "end_time": "2020-09-25T19:20:55.505366Z",
     "start_time": "2020-09-25T19:20:55.500380Z"
    }
   },
   "outputs": [],
   "source": [
    "def get_p_value(mean_general, mu, std, size):\n",
    "    std_error = std / numpy.sqrt(size)\n",
    "    z = (mu - mean_general) / std_error\n",
    "    return 1 - scipy.stats.norm.cdf(z)"
   ]
  },
  {
   "cell_type": "code",
   "execution_count": 24,
   "metadata": {
    "ExecuteTime": {
     "end_time": "2020-09-25T19:20:55.512347Z",
     "start_time": "2020-09-25T19:20:55.506364Z"
    }
   },
   "outputs": [
    {
     "name": "stdout",
     "output_type": "stream",
     "text": [
      "0.0505\n"
     ]
    }
   ],
   "source": [
    "print('{:.4f}'.format(get_p_value(mean_point, mean_point_courses, std_avg, count_in_courses)))"
   ]
  },
  {
   "cell_type": "markdown",
   "metadata": {},
   "source": [
    "\n",
    "Оцените теперь эффективность подготовительных курсов, средний балл 100 выпускников которых равен 541.5. Отвергается ли на уровне значимости 0.05 та же самая нулевая гипотеза против той же самой альтернативы? Введите достигаемый уровень значимости, округлённый до 4 знаков после десятичной точки."
   ]
  },
  {
   "cell_type": "code",
   "execution_count": 25,
   "metadata": {
    "ExecuteTime": {
     "end_time": "2020-09-25T19:20:55.517334Z",
     "start_time": "2020-09-25T19:20:55.513345Z"
    }
   },
   "outputs": [],
   "source": [
    "mean_point_courses_v2 = 541.5"
   ]
  },
  {
   "cell_type": "code",
   "execution_count": 26,
   "metadata": {
    "ExecuteTime": {
     "end_time": "2020-09-25T19:20:55.522321Z",
     "start_time": "2020-09-25T19:20:55.518331Z"
    }
   },
   "outputs": [
    {
     "name": "stdout",
     "output_type": "stream",
     "text": [
      "0.0495\n"
     ]
    }
   ],
   "source": [
    "print('{:.4f}'.format(get_p_value(mean_point, mean_point_courses_v2, std_avg, count_in_courses)))"
   ]
  },
  {
   "cell_type": "code",
   "execution_count": null,
   "metadata": {},
   "outputs": [],
   "source": []
  }
 ],
 "metadata": {
  "kernelspec": {
   "display_name": "Python 3",
   "language": "python",
   "name": "python3"
  },
  "language_info": {
   "codemirror_mode": {
    "name": "ipython",
    "version": 3
   },
   "file_extension": ".py",
   "mimetype": "text/x-python",
   "name": "python",
   "nbconvert_exporter": "python",
   "pygments_lexer": "ipython3",
   "version": "3.7.9"
  }
 },
 "nbformat": 4,
 "nbformat_minor": 4
}
